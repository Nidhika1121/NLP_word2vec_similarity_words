{
  "nbformat": 4,
  "nbformat_minor": 0,
  "metadata": {
    "colab": {
      "provenance": [],
      "machine_shape": "hm"
    },
    "kernelspec": {
      "name": "python3",
      "display_name": "Python 3"
    },
    "language_info": {
      "name": "python"
    },
    "accelerator": "TPU",
    "gpuClass": "standard"
  },
  "cells": [
    {
      "cell_type": "code",
      "execution_count": 1,
      "metadata": {
        "colab": {
          "base_uri": "https://localhost:8080/"
        },
        "id": "hKxQMwPL2fHd",
        "outputId": "90bcb316-8c6a-4b75-8900-0acb58175e47"
      },
      "outputs": [
        {
          "output_type": "stream",
          "name": "stdout",
          "text": [
            "Mounted at /content/drive\n"
          ]
        }
      ],
      "source": [
        "import matplotlib.pyplot as plt\n",
        "import gensim\n",
        "\n",
        "\n",
        "from google.colab import drive\n",
        "drive.mount('/content/drive')\n",
        "\n",
        "\n",
        " \n",
        "\n",
        " "
      ]
    },
    {
      "cell_type": "markdown",
      "source": [
        "Word2Vec In buit similarity measure"
      ],
      "metadata": {
        "id": "LQq7_zfJ3Ggc"
      }
    },
    {
      "cell_type": "code",
      "source": [
        "# Load Google's pre-trained Word2Vec model.\n",
        "model =  gensim.models.KeyedVectors.load_word2vec_format('/content/drive/MyDrive/GoogleNews-vectors-negative300.bin.gz', binary=True)\n",
        "\n",
        "model.wv.similarity('gas', 'climate')\n",
        "\n",
        " "
      ],
      "metadata": {
        "colab": {
          "base_uri": "https://localhost:8080/"
        },
        "id": "95OMj0YD3IJw",
        "outputId": "83e57cf3-6751-4ae7-a6d2-11fdc5974d96"
      },
      "execution_count": 2,
      "outputs": [
        {
          "output_type": "stream",
          "name": "stderr",
          "text": [
            "<ipython-input-2-a8fd707d6e70>:4: DeprecationWarning: Call to deprecated `wv` (Attribute will be removed in 4.0.0, use self instead).\n",
            "  model.wv.similarity('gas', 'climate')\n"
          ]
        },
        {
          "output_type": "execute_result",
          "data": {
            "text/plain": [
              "0.13977887"
            ]
          },
          "metadata": {},
          "execution_count": 2
        }
      ]
    },
    {
      "cell_type": "code",
      "source": [
        "Word2Vec explicit computations"
      ],
      "metadata": {
        "id": "3gTCv7nz3Qjc"
      },
      "execution_count": null,
      "outputs": []
    },
    {
      "cell_type": "code",
      "source": [
        "\n",
        "gas_wv = model.wv['gas']\n",
        "climate_wv = model.wv['climate']\n",
        "climate_wv"
      ],
      "metadata": {
        "colab": {
          "base_uri": "https://localhost:8080/"
        },
        "id": "UOoPi7Q8DU6-",
        "outputId": "abe0df0a-e95c-4117-c0b7-b7c1ded674e5"
      },
      "execution_count": 8,
      "outputs": [
        {
          "output_type": "stream",
          "name": "stderr",
          "text": [
            "<ipython-input-8-ad8e0c4eead8>:1: DeprecationWarning: Call to deprecated `wv` (Attribute will be removed in 4.0.0, use self instead).\n",
            "  gas_wv = model.wv['gas']\n",
            "<ipython-input-8-ad8e0c4eead8>:2: DeprecationWarning: Call to deprecated `wv` (Attribute will be removed in 4.0.0, use self instead).\n",
            "  climate_wv = model.wv['climate']\n"
          ]
        },
        {
          "output_type": "execute_result",
          "data": {
            "text/plain": [
              "array([ 0.17871094,  0.32617188, -0.11865234,  0.12060547, -0.15527344,\n",
              "       -0.2109375 ,  0.00460815, -0.03881836, -0.0067749 ,  0.16796875,\n",
              "        0.02294922, -0.08203125, -0.12988281, -0.09814453, -0.02966309,\n",
              "        0.20703125, -0.22070312,  0.34765625,  0.14550781, -0.20898438,\n",
              "        0.00286865,  0.1796875 , -0.11132812, -0.04956055, -0.03588867,\n",
              "       -0.07275391, -0.0859375 , -0.07910156,  0.09277344, -0.00193787,\n",
              "       -0.01220703, -0.09228516, -0.12060547,  0.20410156, -0.0378418 ,\n",
              "       -0.06201172, -0.09130859, -0.02746582,  0.09130859,  0.06298828,\n",
              "        0.04418945, -0.11083984, -0.12597656,  0.390625  , -0.13085938,\n",
              "       -0.08154297,  0.11914062,  0.12451172, -0.46484375,  0.22949219,\n",
              "        0.0456543 ,  0.05834961, -0.30859375, -0.27148438, -0.13085938,\n",
              "       -0.07617188, -0.14160156, -0.12011719, -0.13085938, -0.05615234,\n",
              "       -0.23828125,  0.02368164, -0.13183594, -0.05395508,  0.07470703,\n",
              "       -0.07177734,  0.26171875,  0.11181641,  0.06689453,  0.03686523,\n",
              "       -0.07470703,  0.15527344,  0.25976562, -0.09619141, -0.23339844,\n",
              "       -0.1875    ,  0.09570312,  0.29882812, -0.24121094, -0.07861328,\n",
              "        0.2265625 ,  0.16601562, -0.17871094, -0.41601562,  0.00604248,\n",
              "        0.12353516, -0.04467773,  0.125     , -0.0480957 ,  0.25390625,\n",
              "        0.23730469, -0.22363281, -0.22265625,  0.0291748 , -0.07421875,\n",
              "        0.03955078,  0.16894531,  0.02966309,  0.39453125, -0.26757812,\n",
              "       -0.02355957, -0.05126953, -0.25585938,  0.17675781, -0.04003906,\n",
              "        0.04858398, -0.265625  ,  0.20703125, -0.13964844, -0.24121094,\n",
              "        0.06640625, -0.01757812, -0.13476562, -0.05688477,  0.17871094,\n",
              "       -0.1484375 ,  0.265625  , -0.05029297, -0.13671875,  0.33398438,\n",
              "       -0.21484375, -0.25976562,  0.02990723,  0.296875  , -0.06787109,\n",
              "        0.04345703,  0.00396729, -0.08300781, -0.1328125 , -0.09033203,\n",
              "        0.09570312, -0.04785156, -0.09814453, -0.04785156,  0.05200195,\n",
              "        0.21679688,  0.01397705, -0.09619141, -0.14355469, -0.10009766,\n",
              "        0.25390625, -0.19238281,  0.04467773, -0.11816406,  0.13183594,\n",
              "       -0.09765625,  0.22558594, -0.00811768,  0.27148438,  0.03857422,\n",
              "        0.10888672, -0.20410156,  0.03344727,  0.08544922,  0.02075195,\n",
              "       -0.20214844,  0.14257812,  0.04345703, -0.01141357, -0.05493164,\n",
              "       -0.21679688, -0.07128906,  0.11035156,  0.10986328, -0.01196289,\n",
              "        0.18554688, -0.05688477, -0.04785156,  0.10595703,  0.13574219,\n",
              "       -0.09716797,  0.29882812,  0.15136719, -0.10791016, -0.04321289,\n",
              "        0.17285156, -0.28515625,  0.00787354, -0.19433594,  0.07128906,\n",
              "       -0.1953125 , -0.07666016,  0.26757812,  0.06079102, -0.03564453,\n",
              "       -0.19238281, -0.18945312,  0.31835938,  0.01531982,  0.14453125,\n",
              "       -0.14550781,  0.05029297,  0.00318909,  0.0859375 , -0.10009766,\n",
              "        0.17285156,  0.23046875, -0.04296875,  0.09472656, -0.08105469,\n",
              "       -0.12988281,  0.06835938, -0.13378906, -0.00680542,  0.14941406,\n",
              "        0.06982422,  0.45117188,  0.18457031, -0.18554688,  0.00704956,\n",
              "       -0.01086426,  0.13769531,  0.32617188,  0.17578125,  0.08544922,\n",
              "        0.15917969,  0.12304688,  0.07421875,  0.00891113,  0.171875  ,\n",
              "        0.0072937 , -0.07421875, -0.05004883, -0.03173828, -0.18554688,\n",
              "       -0.11865234,  0.41601562, -0.04785156,  0.0201416 ,  0.11132812,\n",
              "       -0.1953125 ,  0.14355469,  0.06445312, -0.19628906,  0.19335938,\n",
              "       -0.01696777,  0.02087402, -0.06347656,  0.29296875, -0.1875    ,\n",
              "        0.27539062,  0.19238281, -0.08056641, -0.02770996, -0.10351562,\n",
              "        0.15917969, -0.22070312, -0.03320312, -0.15136719, -0.01965332,\n",
              "       -0.27539062,  0.25390625, -0.07617188,  0.11767578,  0.10595703,\n",
              "       -0.06494141,  0.56640625,  0.10986328, -0.15429688,  0.08740234,\n",
              "       -0.00216675, -0.15527344, -0.02697754,  0.18066406,  0.22753906,\n",
              "        0.41210938, -0.375     , -0.08544922, -0.08007812, -0.37304688,\n",
              "       -0.18359375,  0.11523438, -0.03930664,  0.1015625 , -0.23144531,\n",
              "        0.06005859, -0.36328125, -0.17480469,  0.09863281,  0.04394531,\n",
              "        0.14648438, -0.16308594,  0.07714844,  0.00082397,  0.15332031,\n",
              "       -0.22851562,  0.16113281, -0.44921875,  0.03686523,  0.18945312,\n",
              "       -0.39453125,  0.15429688,  0.17382812,  0.20117188,  0.21191406,\n",
              "        0.13574219, -0.00360107,  0.41796875,  0.31445312,  0.06542969],\n",
              "      dtype=float32)"
            ]
          },
          "metadata": {},
          "execution_count": 8
        }
      ]
    },
    {
      "cell_type": "code",
      "source": [
        "import numpy as np\n",
        "\n",
        "gas_wv = model.wv['gas']\n",
        "climate_wv = model.wv['climate']\n",
        "\n",
        "def cosine(vector1, vector2):\n",
        "    similarity = np.dot(vector1, vector2)\n",
        "    norm1 = np.sqrt(np.sum(vector1**2))\n",
        "    norm2 = np.sqrt(np.sum(vector2**2))\n",
        "    \n",
        "    cosineDistance = similarity / (norm1*norm2)\n",
        "    \n",
        "    return cosineDistance\n",
        "\n",
        " \n",
        "cosine(gas_wv , climate_wv)\n",
        "\n"
      ],
      "metadata": {
        "colab": {
          "base_uri": "https://localhost:8080/"
        },
        "id": "KXSQrbDU3TcE",
        "outputId": "897ded82-840d-4e3a-c232-c9da6b99c53a"
      },
      "execution_count": 7,
      "outputs": [
        {
          "output_type": "stream",
          "name": "stderr",
          "text": [
            "<ipython-input-7-8839d6c5b8db>:3: DeprecationWarning: Call to deprecated `wv` (Attribute will be removed in 4.0.0, use self instead).\n",
            "  gas_wv = model.wv['gas']\n",
            "<ipython-input-7-8839d6c5b8db>:4: DeprecationWarning: Call to deprecated `wv` (Attribute will be removed in 4.0.0, use self instead).\n",
            "  climate_wv = model.wv['climate']\n"
          ]
        },
        {
          "output_type": "execute_result",
          "data": {
            "text/plain": [
              "0.13977887"
            ]
          },
          "metadata": {},
          "execution_count": 7
        }
      ]
    },
    {
      "cell_type": "markdown",
      "source": [
        "NLP based similarity measures"
      ],
      "metadata": {
        "id": "nPyFdzpi3YC_"
      }
    },
    {
      "cell_type": "code",
      "source": [
        " "
      ],
      "metadata": {
        "colab": {
          "base_uri": "https://localhost:8080/",
          "height": 131
        },
        "id": "bI2K9h6v3YjL",
        "outputId": "d524ea7e-6fb7-4675-9c15-e52d81a2ef91"
      },
      "execution_count": 6,
      "outputs": [
        {
          "output_type": "error",
          "ename": "SyntaxError",
          "evalue": "ignored",
          "traceback": [
            "\u001b[0;36m  File \u001b[0;32m\"<ipython-input-6-ce68ed4800fc>\"\u001b[0;36m, line \u001b[0;32m1\u001b[0m\n\u001b[0;31m    pip install nltk\u001b[0m\n\u001b[0m        ^\u001b[0m\n\u001b[0;31mSyntaxError\u001b[0m\u001b[0;31m:\u001b[0m invalid syntax\n"
          ]
        }
      ]
    }
  ]
}